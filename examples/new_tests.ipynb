{
 "cells": [
  {
   "cell_type": "code",
   "execution_count": 1,
   "id": "c3bd4c24-4e51-4906-9e6d-9c7e3e38070c",
   "metadata": {},
   "outputs": [],
   "source": [
    "import trimesh\n",
    "\n",
    "def load_mesh_scene(filename, show_edges=False):\n",
    "    mesh = trimesh.load(filename)\n",
    "    color = [128, 176, 255, 255]\n",
    "    mesh.visual.face_colors = color\n",
    "    geometries = [mesh]\n",
    "    if show_edges:\n",
    "        edges = mesh.face_adjacency_edges\n",
    "        path = trimesh.path.Path3D(**trimesh.path.exchange.misc.edges_to_path(edges, mesh.vertices.copy()))\n",
    "        geometries.append(path)\n",
    "    scene = trimesh.Scene(geometries)\n",
    "    return scene"
   ]
  }
 ],
 "metadata": {
  "kernelspec": {
   "display_name": "Python 3 (ipykernel)",
   "language": "python",
   "name": "python3"
  },
  "language_info": {
   "codemirror_mode": {
    "name": "ipython",
    "version": 3
   },
   "file_extension": ".py",
   "mimetype": "text/x-python",
   "name": "python",
   "nbconvert_exporter": "python",
   "pygments_lexer": "ipython3",
   "version": "3.10.12"
  }
 },
 "nbformat": 4,
 "nbformat_minor": 5
}
